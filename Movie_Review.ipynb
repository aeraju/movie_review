{
  "nbformat": 4,
  "nbformat_minor": 0,
  "metadata": {
    "colab": {
      "name": "Movie_Review.ipynb",
      "version": "0.3.2",
      "provenance": [],
      "collapsed_sections": [],
      "include_colab_link": true
    },
    "kernelspec": {
      "name": "python3",
      "display_name": "Python 3"
    },
    "accelerator": "GPU"
  },
  "cells": [
    {
      "cell_type": "markdown",
      "metadata": {
        "id": "view-in-github",
        "colab_type": "text"
      },
      "source": [
        "<a href=\"https://colab.research.google.com/github/aeraju/movie_review/blob/master/Movie_Review.ipynb\" target=\"_parent\"><img src=\"https://colab.research.google.com/assets/colab-badge.svg\" alt=\"Open In Colab\"/></a>"
      ]
    },
    {
      "cell_type": "code",
      "metadata": {
        "id": "hcbNh7CDhzve",
        "colab_type": "code",
        "colab": {}
      },
      "source": [
        "#Importing Libraries \n",
        "import pandas as pd\n",
        "import matplotlib.pyplot as plt\n",
        "import re\n",
        "import numpy as np\n",
        "from keras.preprocessing.text import Tokenizer\n",
        "from keras.preprocessing import sequence\n",
        "from keras.preprocessing.sequence import pad_sequences\n",
        "from keras.layers.core import Dense,Activation,Dropout\n",
        "from keras.models import Sequential\n",
        "from keras.layers import LSTM, Dense, Embedding, Bidirectional,Flatten\n",
        "from keras.utils import to_categorical\n",
        "from google.colab import files  "
      ],
      "execution_count": 0,
      "outputs": []
    },
    {
      "cell_type": "code",
      "metadata": {
        "id": "kH6kBYWMxg62",
        "colab_type": "code",
        "colab": {}
      },
      "source": [
        "#Importing data\n",
        "trainDataUrl = 'https://raw.githubusercontent.com/aeraju/movie_review/master/train.tsv'\n",
        "testDataUrl = 'https://raw.githubusercontent.com/aeraju/movie_review/master/test.tsv'\n",
        "sampleSubmissionUrl = 'https://raw.githubusercontent.com/aeraju/movie_review/master/sampleSubmission.csv'\n",
        "trainTable = pd.read_csv(trainDataUrl,sep='\\t')\n",
        "testTable = pd.read_csv(testDataUrl,sep='\\t')\n",
        "sampleTable = pd.read_csv(sampleSubmissionUrl ,sep=',')"
      ],
      "execution_count": 0,
      "outputs": []
    },
    {
      "cell_type": "code",
      "metadata": {
        "id": "qaHsBzj76fe3",
        "colab_type": "code",
        "colab": {}
      },
      "source": [
        "#Initializing tokenizer\n",
        "t = Tokenizer()"
      ],
      "execution_count": 0,
      "outputs": []
    },
    {
      "cell_type": "code",
      "metadata": {
        "id": "NSPLKeHL4Pmq",
        "colab_type": "code",
        "colab": {}
      },
      "source": [
        "#preprocessing data\n",
        "def preProcess(Phrase):\n",
        "  proData = Phrase.str.lower()\n",
        "  proData = Phrase.map(lambda x: re.sub('[^a-zA-z0-9\\s]','',x))\n",
        "  return proData\n",
        "\n",
        "def sequenceAndPadding(data,length):\n",
        "  data = t.texts_to_sequences(data)\n",
        "  data = pad_sequences(data,length)\n",
        "  return data\n",
        "  "
      ],
      "execution_count": 0,
      "outputs": []
    },
    {
      "cell_type": "code",
      "metadata": {
        "id": "JAZ9bqCj58_N",
        "colab_type": "code",
        "colab": {}
      },
      "source": [
        "#Distribution of movie reviews with sentiments\n",
        "tempCount = sentDist = trainTable['Sentiment'].value_counts().sort_index() #sentiment Distribution\n",
        "sentDist = sentDist.plot.bar(title ='sentiment distribution')\n",
        "sentDist.set_xticklabels(('negative', 'somewhat negative', 'neutral', 'somewhat positive', 'positive'))\n",
        "sentDist.set_xlabel('Sentiment')\n",
        "sentDist.set_ylabel('counts')\n",
        "for i,j in enumerate(tempCount):\n",
        "  sentDist.text(i-0.25,j+450,str(j))"
      ],
      "execution_count": 0,
      "outputs": []
    },
    {
      "cell_type": "code",
      "metadata": {
        "id": "nhtYDV5VCdsI",
        "colab_type": "code",
        "colab": {}
      },
      "source": [
        "#Distribution of word count\n",
        "trainTable['proData'] = preProcess(trainTable['Phrase'])\n",
        "wordCount = trainTable['proData'].apply(lambda x:len(x.split()))\n",
        "tempCount = wordCount = wordCount.value_counts().sort_index()\n",
        "maxIndex = max(tempCount.index)\n",
        "wordCount = wordCount.plot.bar(figsize=[28,5],title ='wordCount')\n",
        "wordCount.set_xlabel('word length')\n",
        "for i,j in enumerate(tempCount):\n",
        "  wordCount.text(i-0.25,j+500,str(j))"
      ],
      "execution_count": 0,
      "outputs": []
    },
    {
      "cell_type": "code",
      "metadata": {
        "id": "qsdk-ebp86Gu",
        "colab_type": "code",
        "colab": {}
      },
      "source": [
        "# Preprocessing Train Data\n",
        "xTrain = preProcess(trainTable['Phrase'])\n",
        "yTrain = trainTable['Sentiment']\n",
        "yTrain = [to_categorical(i,num_classes=5)for i in yTrain]\n",
        "t.fit_on_texts(xTrain)\n",
        "xTrain = sequenceAndPadding(xTrain,maxIndex)"
      ],
      "execution_count": 0,
      "outputs": []
    },
    {
      "cell_type": "code",
      "metadata": {
        "id": "1lFAK7P7HKhh",
        "colab_type": "code",
        "colab": {}
      },
      "source": [
        "# Model (Bi-LSTM with Softmax) \n",
        "embedInDim = len(t.word_index)+1\n",
        "embedOutDim = 100\n",
        "model = Sequential()\n",
        "model.add(Embedding(embedInDim,embedOutDim,input_length=maxIndex))\n",
        "model.add(Bidirectional(LSTM(units = 64,return_sequences = True,recurrent_dropout = 0.1)))\n",
        "model.add(Flatten())\n",
        "model.add(Dense(5,activation = 'softmax'))\n",
        "model.compile(loss = 'categorical_crossentropy',optimizer = 'adam', metrics = ['accuracy'])"
      ],
      "execution_count": 0,
      "outputs": []
    },
    {
      "cell_type": "code",
      "metadata": {
        "id": "0Dh83hD8SiT4",
        "colab_type": "code",
        "colab": {}
      },
      "source": [
        "#training\n",
        "model.fit(xTrain,np.array(yTrain),batch_size=64,epochs=10,verbose=1,validation_split=0.0)\n"
      ],
      "execution_count": 0,
      "outputs": []
    },
    {
      "cell_type": "code",
      "metadata": {
        "id": "dYWXWc0aYkOE",
        "colab_type": "code",
        "colab": {}
      },
      "source": [
        "#Predicting the output\n",
        "xTest = preProcess(testTable['Phrase'])\n",
        "xTest = sequenceAndPadding(xTest,maxIndex)"
      ],
      "execution_count": 0,
      "outputs": []
    },
    {
      "cell_type": "code",
      "metadata": {
        "id": "WUNmsT77Bivd",
        "colab_type": "code",
        "colab": {}
      },
      "source": [
        "#prediction\n",
        "prediction = model.predict_classes(xTest)\n"
      ],
      "execution_count": 0,
      "outputs": []
    },
    {
      "cell_type": "code",
      "metadata": {
        "id": "09Qctx6zB9Oq",
        "colab_type": "code",
        "colab": {}
      },
      "source": [
        "#saving the file \n",
        "sampleTable.Sentiment = prediction \n",
        "sampleTable.to_csv(r'results.csv', sep=',', index=False)\n",
        "files.download('results.csv') "
      ],
      "execution_count": 0,
      "outputs": []
    }
  ]
}